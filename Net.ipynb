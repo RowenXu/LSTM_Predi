{
 "cells": [
  {
   "cell_type": "code",
   "execution_count": 1,
   "metadata": {},
   "outputs": [],
   "source": [
    "import torch\n",
    "import torch.nn as nn\n",
    "import torch.nn.functional as F\n",
    "#输入数据为前面6个时段的Nino12与34区的海洋温度异常（Anomaly of SST in Nino12 and Nino34,两者均为40*40的矩阵），每个时间序列输入数据为2*40*40的矩阵，输出为一个2*40*40的矩阵。\n",
    "#输出层为4\n",
    "input_size = 3\n",
    "hidden_size = 32\n",
    "num_layers = 1\n",
    "batch_first = True\n",
    "seq_len = 6\n",
    "batch_size=5\n",
    "\n",
    "#定义网络结构\n",
    "rnn=nn.RNN(input_size=input_size,hidden_size=hidden_size,num_layers=num_layers,batch_first=batch_first)\n",
    "\n"
   ]
  }
 ],
 "metadata": {
  "kernelspec": {
   "display_name": "base",
   "language": "python",
   "name": "python3"
  },
  "language_info": {
   "codemirror_mode": {
    "name": "ipython",
    "version": 3
   },
   "file_extension": ".py",
   "mimetype": "text/x-python",
   "name": "python",
   "nbconvert_exporter": "python",
   "pygments_lexer": "ipython3",
   "version": "3.11.0"
  }
 },
 "nbformat": 4,
 "nbformat_minor": 2
}
