{
 "cells": [
  {
   "cell_type": "code",
   "execution_count": null,
   "metadata": {},
   "outputs": [],
   "source": [
    "import numpy as np\n",
    "import netCDF4 as nc"
   ]
  },
  {
   "cell_type": "markdown",
   "metadata": {},
   "source": [
    "# read the data"
   ]
  },
  {
   "cell_type": "code",
   "execution_count": null,
   "metadata": {},
   "outputs": [],
   "source": [
    "#input nino12\n",
    "\n",
    "#input nino34\n",
    "with nc.Dataset('/Users/rowenxu/LSTM_EA_Monsoon/Data/input/adaptor.mars.internal-1698315429.528404-2819-2-4309fc02-bb4e-4499-a9e3-9e4d13b68b4c.nc','r') as f:\n",
    "    latitude=f.variables[\"latitude\"][:]\n",
    "    longitude=f.variables[\"longitude\"][:]\n",
    "    time=f.variables[\"time\"][:]\n",
    "    T=f.variables[\"t\"][:]\n",
    "    uwind=f.variables[\"u\"][:]\n",
    "    vwind=f.variables[\"v\"][:]\n"
   ]
  },
  {
   "cell_type": "code",
   "execution_count": null,
   "metadata": {},
   "outputs": [],
   "source": [
    "#normalize the data\n",
    "T_norm_nino34=np.zeros(T.shape)\n",
    "uwind_norm_nino34=np.zeros(uwind.shape)\n",
    "vwind_norm_nino34=np.zeros(vwind.shape)\n",
    "for z in range(2):\n",
    "    for i in range(len(latitude)):\n",
    "        for j in range(len(longitude)):\n",
    "            T_norm_nino34[:,z,i,j]=(T[:,z,i,j]-np.mean(T[:,z,i,j]))/np.std(T[:,z,i,j])\n",
    "            uwind_norm_nino34[:,z,i,j]=(uwind[:,z,i,j]-np.mean(uwind[:,z,i,j]))/np.std(uwind[:,z,i,j])\n",
    "            vwind_norm_nino34[:,z,i,j]=(vwind[:,z,i,j]-np.mean(vwind[:,z,i,j]))/np.std(vwind[:,z,i,j])\n",
    "\n",
    "print(T_norm_nino34)"
   ]
  },
  {
   "cell_type": "code",
   "execution_count": null,
   "metadata": {},
   "outputs": [],
   "source": [
    "with open(\"/Users/rowenxu/LSTM_EA_Monsoon/Data/output/Nino34_data.txt\",'w') as s:\n",
    "    s.write(\"T\\n\")\n",
    "    for i in range(len(time)):\n",
    "        for j in range(len(latitude)):\n",
    "            for k in range(len(longitude)):\n",
    "                s.write(str(T_norm_nino34[i,0,j,k])+\" \")\n",
    "            s.write(\"\\n\")\n",
    "        s.write(\"\\n\")\n",
    "\n",
    "    s.write(\"uwind\\n\")\n",
    "    for i in range(len(time)):\n",
    "        for j in range(len(latitude)):\n",
    "            for k in range(len(longitude)):\n",
    "                s.write(str(uwind_norm_nino34[i,0,j,k])+\" \")\n",
    "            s.write(\"\\n\")\n",
    "        s.write(\"\\n\")\n",
    "    s.write(\"vwind\\n\")\n",
    "    for i in range(len(time)):\n",
    "        for j in range(len(latitude)):\n",
    "            for k in range(len(longitude)):\n",
    "                s.write(str(vwind_norm_nino34[i,0,j,k])+\" \")\n",
    "            s.write(\"\\n\")\n",
    "        s.write(\"\\n\")\n"
   ]
  },
  {
   "cell_type": "code",
   "execution_count": null,
   "metadata": {},
   "outputs": [],
   "source": []
  }
 ],
 "metadata": {
  "kernelspec": {
   "display_name": "base",
   "language": "python",
   "name": "python3"
  },
  "language_info": {
   "codemirror_mode": {
    "name": "ipython",
    "version": 3
   },
   "file_extension": ".py",
   "mimetype": "text/x-python",
   "name": "python",
   "nbconvert_exporter": "python",
   "pygments_lexer": "ipython3",
   "version": "3.11.0"
  }
 },
 "nbformat": 4,
 "nbformat_minor": 2
}
