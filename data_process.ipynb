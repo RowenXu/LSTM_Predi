{
 "cells": [
  {
   "cell_type": "code",
   "execution_count": null,
   "metadata": {},
   "outputs": [],
   "source": [
    "import numpy as np\n",
    "import netCDF4 as nc\n",
    "import matplotlib.pyplot as plt\n",
    "import scipy"
   ]
  },
  {
   "cell_type": "markdown",
   "metadata": {},
   "source": [
    "# read the data"
   ]
  },
  {
   "cell_type": "code",
   "execution_count": null,
   "metadata": {},
   "outputs": [],
   "source": [
    "#input nino34\n",
    "with nc.Dataset('/Users/rowenxu/LSTM_EA_Monsoon/Data/input/nino34_uv.nc','r') as f:\n",
    "    latitude_nino34=f.variables[\"latitude\"][:]\n",
    "    longitude_nino34=f.variables[\"longitude\"][:]\n",
    "    time=f.variables[\"time\"][:]\n",
    "    uwind_nino34=f.variables[\"u\"][:]\n",
    "    vwind_nino34=f.variables[\"v\"][:]\n",
    "#input nino12\n",
    "with nc.Dataset('/Users/rowenxu/LSTM_EA_Monsoon/Data/input/nino12_uv.nc','r') as f:\n",
    "    latitude_nino12=f.variables[\"latitude\"][:]\n",
    "    longitude_nino12=f.variables[\"longitude\"][:]\n",
    "    time=f.variables[\"time\"][:]\n",
    "    uwind_nino12=f.variables[\"u\"][:]\n",
    "    vwind_nino12=f.variables[\"v\"][:]\n",
    "#input the sst\n",
    "with nc.Dataset('/Users/rowenxu/LSTM_EA_Monsoon/Data/input/nino1234_sst.nc','r') as f:\n",
    "    sst_nino1234=f.variables[\"t\"][:]\n",
    "    latitude_1234=f.variables[\"latitude\"][:]\n",
    "    longitude_1234=f.variables[\"longitude\"][:]\n",
    "    index_lat_nino12=[i for i in range(len(latitude_1234)) if latitude_1234[i]>=-10 and latitude_1234[i]<=0]\n",
    "    index_lon_nino12=[i for i in range(len(longitude_1234)) if longitude_1234[i]>=-90 and longitude_1234[i]<=-80]\n",
    "    index_lat_nino34=[i for i in range(len(latitude_1234)) if latitude_1234[i]>=-5 and latitude_1234[i]<=5]\n",
    "    index_lon_nino34=[i for i in range(len(longitude_1234)) if longitude_1234[i]>=-170 and longitude_1234[i]<=-120]\n",
    "    sst_nino34=sst_nino1234[:,0,index_lat_nino34[0]:index_lat_nino34[-1],index_lon_nino34[0]:index_lon_nino34[-1]]#nino34 is 5s to 5n in lat and 170W-120W in lon\n",
    "    sst_nino12=sst_nino1234[:,0,index_lat_nino12[0]:index_lat_nino12[-1],index_lon_nino12[0]:index_lon_nino12[-1]]#nino12 is 10S-0N in lat and 90W-80W in lon"
   ]
  },
  {
   "cell_type": "code",
   "execution_count": null,
   "metadata": {},
   "outputs": [],
   "source": [
    "print(sst_nino34.shape)\n",
    "print(sst_nino12.shape)\n",
    "#对nino34点经纬度进行下采样，使得与12区的分辨率一致\n",
    "sst_nino34_downsample=np.zeros((sst_nino34.shape[0],sst_nino12.shape[1],sst_nino12.shape[2]))\n",
    "for i in range(sst_nino34.shape[0]):\n",
    "    sst_nino34_downsample[i,:,:]=scipy.ndimage.zoom(sst_nino34[i,:,:],(1,2,2),order=1)\n"
   ]
  },
  {
   "cell_type": "code",
   "execution_count": null,
   "metadata": {},
   "outputs": [],
   "source": [
    "print(sst_nino34_downsample.shape)"
   ]
  },
  {
   "cell_type": "code",
   "execution_count": null,
   "metadata": {},
   "outputs": [],
   "source": [
    "#normalize the data\n",
    "uwind_norm_nino34=np.zeros(uwind_nino34.shape)\n",
    "vwind_norm_nino34=np.zeros(vwind_nino34.shape)\n",
    "uwind_norm_nono12=np.zeros(uwind_nino12.shape)#normalize the data\n",
    "uwind_norm_nino34=np.zeros(uwind_nino34.shape)\n",
    "vwind_norm_nino34=np.zeros(vwind_nino34.shape)\n",
    "uwind_norm_nono12=np.zeros((len(time),len(longitude_nino12),len(latitude_nino12)))\n",
    "for z in range(2):\n",
    "    for i in range(len(latitude_nino34)):\n",
    "        for j in range(len(longitude_nino34)):\n",
    "            uwind_norm_nino34[:,z,i,j]=(uwind_nino34[:,z,i,j]-np.mean(uwind_nino34[:,z,i,j]))/np.std(uwind_nino34[:,z,i,j])\n",
    "            vwind_norm_nino34[:,z,i,j]=(vwind_nino34[:,z,i,j]-np.mean(vwind_nino34[:,z,i,j]))/np.std(vwind_nino34[:,z,i,j])\n",
    "for z in range(2):\n",
    "    for i in range(len(latitude_nino34)):\n",
    "        for j in range(len(longitude_nino34)):\n",
    "            uwind_norm_nino34[:,z,i,j]=(uwind_nino34[:,z,i,j]-np.mean(uwind_nino34[:,z,i,j]))/np.std(uwind_nino34[:,z,i,j])\n",
    "            vwind_norm_nino34[:,z,i,j]=(vwind_nino34[:,z,i,j]-np.mean(vwind_nino34[:,z,i,j]))/np.std(vwind_nino34[:,z,i,j])\n",
    "#calculate the circulation index from the wind\n",
    "circulation_nino34=np.zeros((len(time),len(latitude_nino34),len(longitude_nino34)))\n",
    "for i in range(len(latitude_nino34)):\n",
    "    for j in range(len(longitude_nino34)):\n",
    "        circulation_nino34[:,i,j]=uwind_norm_nino34[:,0,i,j]*vwind_norm_nino34[:,0,i,j]-uwind_norm_nino34[:,0,i,j]*vwind_norm_nino34[:,0,i,j]\n",
    "\n",
    "\n"
   ]
  },
  {
   "cell_type": "markdown",
   "metadata": {},
   "source": [
    "# Calculate the NINO INDEX (1+2) and (3.4)"
   ]
  },
  {
   "cell_type": "code",
   "execution_count": null,
   "metadata": {},
   "outputs": [],
   "source": [
    "nino12_index=np.zeros(len(time))\n",
    "for i in range(len(time)):\n",
    "    nino12_index[i]=np.mean(sst_nino12[i,:,:])-np.mean(sst_nino12[:,:,:]) #calculate the nino12 index\n",
    "fig1=plt.figure()\n",
    "ax=fig1.add_subplot()\n",
    "nino12_index_flatten=np.convolve(nino12_index[300:],np.ones(8)/8)\n",
    "ax.plot(range(len(nino12_index[300:])+7),nino12_index_flatten)\n",
    "\n",
    "ax.set_xlabel('time series(month))')\n",
    "ax.set_ylabel('nino12 index(from )')\n",
    "ax.set_title('index')\n",
    "nino34_index=np.zeros(len(time))\n",
    "for i in range(len(time)):\n",
    "    nino34_index[i]=np.mean(sst_nino34[i,:,:])-np.mean(sst_nino34[:,:,:]) #calculate the nino34 index\n",
    "nino34_index_flatten=np.convolve(nino34_index[300:],np.ones(8)/8)\n",
    "ax.plot(range(len(nino34_index[300:])+7),nino34_index_flatten)\n",
    "ax.set_xlabel('time series(month))')\n",
    "ax.set_ylabel('index')\n",
    "corr=np.corrcoef(nino12_index[300:500],nino34_index[300:500])\n",
    "ax.legend(['nino12','nino34'])\n",
    "# ax.text(100,100,'corrcoef='+str(corr[0,1]))\n",
    "#since 2020.5, the longest lanina event continues until 2023.3 as a result, we need to hightlight the curve in this event\n"
   ]
  },
  {
   "cell_type": "code",
   "execution_count": null,
   "metadata": {},
   "outputs": [],
   "source": []
  }
 ],
 "metadata": {
  "kernelspec": {
   "display_name": "base",
   "language": "python",
   "name": "python3"
  },
  "language_info": {
   "codemirror_mode": {
    "name": "ipython",
    "version": 3
   },
   "file_extension": ".py",
   "mimetype": "text/x-python",
   "name": "python",
   "nbconvert_exporter": "python",
   "pygments_lexer": "ipython3",
   "version": "3.11.0"
  }
 },
 "nbformat": 4,
 "nbformat_minor": 2
}
